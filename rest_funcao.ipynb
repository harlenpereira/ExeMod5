{
 "cells": [
  {
   "cell_type": "code",
   "execution_count": 3,
   "id": "3336dff9",
   "metadata": {},
   "outputs": [],
   "source": [
    "def mult5(num5):\n",
    "    resto5 = num5 % 5\n",
    "    return resto5\n",
    "\n",
    "def mult7(num7):\n",
    "    resto7 = num7 % 7\n",
    "    return resto7"
   ]
  },
  {
   "cell_type": "code",
   "execution_count": null,
   "id": "d63e70b1",
   "metadata": {},
   "outputs": [],
   "source": []
  }
 ],
 "metadata": {
  "kernelspec": {
   "display_name": "Python 3 (ipykernel)",
   "language": "python",
   "name": "python3"
  },
  "language_info": {
   "codemirror_mode": {
    "name": "ipython",
    "version": 3
   },
   "file_extension": ".py",
   "mimetype": "text/x-python",
   "name": "python",
   "nbconvert_exporter": "python",
   "pygments_lexer": "ipython3",
   "version": "3.9.7"
  }
 },
 "nbformat": 4,
 "nbformat_minor": 5
}
