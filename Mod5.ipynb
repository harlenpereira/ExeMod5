{
 "cells": [
  {
   "cell_type": "code",
   "execution_count": null,
   "id": "089272f2",
   "metadata": {},
   "outputs": [
    {
     "ename": "",
     "evalue": "",
     "output_type": "error",
     "traceback": [
      "\u001b[1;31mUnable to start Kernel 'base (Python 3.9.7)' due to connection timeout. \n",
      "View Jupyter <a href='command:jupyter.viewOutput'>log</a> for further details."
     ]
    }
   ],
   "source": [
    "import rest_funcao "
   ]
  },
  {
   "cell_type": "code",
   "execution_count": 11,
   "id": "28811ce1",
   "metadata": {},
   "outputs": [],
   "source": [
    "numero = int(input(\"Digite o número: \"))\n",
    "func5 = mult5(numero)\n",
    "func7 = mult7(numero)"
   ]
  },
  {
   "cell_type": "code",
   "execution_count": null,
   "id": "c3264399",
   "metadata": {},
   "outputs": [],
   "source": [
    "if(func5 == 0):\n",
    "    print(\"fizz\")"
   ]
  },
  {
   "cell_type": "code",
   "execution_count": null,
   "id": "e1daecad",
   "metadata": {},
   "outputs": [],
   "source": [
    "if(func7 == 0):\n",
    "    print(\"buzz\")"
   ]
  },
  {
   "cell_type": "code",
   "execution_count": null,
   "id": "622b22f6",
   "metadata": {},
   "outputs": [],
   "source": [
    "if((func5 == 0) and (func7 ==0)):\n",
    "    print(\"fizzbuzz\")\n",
    "else:\n",
    "    print(\"miss\")"
   ]
  },
  {
   "cell_type": "code",
   "execution_count": 15,
   "id": "58993667",
   "metadata": {},
   "outputs": [
    {
     "ename": "SyntaxError",
     "evalue": "invalid syntax (Temp/ipykernel_4784/337332070.py, line 1)",
     "output_type": "error",
     "traceback": [
      "\u001b[1;36m  File \u001b[1;32m\"C:\\Users\\HARLEN\\AppData\\Local\\Temp/ipykernel_4784/337332070.py\"\u001b[1;36m, line \u001b[1;32m1\u001b[0m\n\u001b[1;33m    pip3.7 install pylint\u001b[0m\n\u001b[1;37m        ^\u001b[0m\n\u001b[1;31mSyntaxError\u001b[0m\u001b[1;31m:\u001b[0m invalid syntax\n"
     ]
    }
   ],
   "source": [
    "pip install pylint\n",
    "pip install pycodestyle"
   ]
  },
  {
   "cell_type": "code",
   "execution_count": null,
   "id": "ab6a1de7",
   "metadata": {},
   "outputs": [],
   "source": [
    "!python3.7 -m lint Mod5/Mod5"
   ]
  }
 ],
 "metadata": {
  "kernelspec": {
   "display_name": "Python 3 (ipykernel)",
   "language": "python",
   "name": "python3"
  },
  "language_info": {
   "codemirror_mode": {
    "name": "ipython",
    "version": 3
   },
   "file_extension": ".py",
   "mimetype": "text/x-python",
   "name": "python",
   "nbconvert_exporter": "python",
   "pygments_lexer": "ipython3",
   "version": "3.9.7"
  }
 },
 "nbformat": 4,
 "nbformat_minor": 5
}
